{
 "cells": [
  {
   "cell_type": "markdown",
   "metadata": {},
   "source": [
    "### Sentiment Analysis Assessment\n"
   ]
  },
  {
   "cell_type": "markdown",
   "metadata": {},
   "source": [
    "### Perform vector arithmetic on your own words\n",
    "\n",
    "#### Write code that evaluates vector arithmetic on your own set of related words. The goal is to come as close to an expected word as possible. "
   ]
  },
  {
   "cell_type": "code",
   "execution_count": 145,
   "metadata": {},
   "outputs": [],
   "source": [
    "# Import spaCy and load the language library. Remember to use a larger model!\n",
    "\n",
    "import spacy\n",
    "import en_core_web_md\n",
    "nlp = spacy.load('en_core_web_md')"
   ]
  },
  {
   "cell_type": "code",
   "execution_count": 146,
   "metadata": {},
   "outputs": [],
   "source": [
    "# Choose the words you wish to compare, and obtain their vectors\n",
    "\n",
    "word1 = nlp('Chicago')\n",
    "word2 = nlp('Dallas')\n",
    "word3 = nlp('Boston')"
   ]
  },
  {
   "cell_type": "code",
   "execution_count": 147,
   "metadata": {},
   "outputs": [
    {
     "name": "stdout",
     "output_type": "stream",
     "text": [
      "[ 4.1337e-02 -2.7126e-02  2.8624e-01 -2.7172e-01  1.0035e+00  1.1691e-01\n",
      "  2.0772e-01 -5.6712e-02  4.4990e-01  1.0624e+00 -1.0100e+00 -2.3991e-01\n",
      "  1.2145e-01 -9.3886e-02 -4.7521e-01  1.0634e-01  1.9964e-01  1.5881e+00\n",
      " -1.7189e-01 -2.9637e-01  5.9079e-01 -2.3322e-01  4.2963e-01 -8.1424e-01\n",
      " -4.0489e-01 -5.0886e-02 -6.4667e-01  3.2311e-01 -1.0070e-01  2.4043e-02\n",
      "  3.4290e-01 -2.9327e-02  2.5576e-01  3.7681e-01 -4.5864e-02  2.1720e-01\n",
      " -6.0034e-02 -1.0415e-02  6.5948e-02  3.5825e-01  7.7660e-02  1.4524e-01\n",
      " -2.1698e-01  1.1105e-01  8.1440e-02 -7.6026e-02  6.0249e-02 -1.8376e-01\n",
      "  1.1002e-02 -7.6453e-02 -6.8253e-01  2.5313e-01 -3.5099e-02 -3.2819e-01\n",
      " -2.6777e-01 -3.0811e-02  1.7143e-03  2.4064e-01  1.2988e-01 -6.1873e-01\n",
      " -8.3278e-01 -1.7247e-01  5.2771e-02 -1.1137e-01 -4.3885e-02  1.1661e-01\n",
      " -4.0099e-01  2.4318e-01 -1.5032e-01 -1.3947e-01 -2.6132e-01  7.7930e-03\n",
      " -7.2522e-02 -3.5462e-01  2.3026e-01  4.2821e-01 -3.8423e-01 -2.6824e-02\n",
      "  4.9963e-01  3.6702e-01 -4.4692e-02  7.1613e-01  7.9869e-02 -4.2280e-01\n",
      " -5.2621e-01  2.4407e-01  1.0300e+00  5.0156e-01 -1.8336e-01 -2.9526e-01\n",
      "  2.8225e-01 -2.3251e-01 -3.9494e-01 -8.6949e-01  2.3866e-01  1.7401e-01\n",
      " -1.7265e-03  3.7481e-02 -1.7701e-01  3.5727e-02 -1.5188e-01  4.8110e-02\n",
      "  1.4674e-01  8.4606e-01 -5.8359e-03 -8.3635e-01  5.2303e-01  4.6731e-01\n",
      "  3.8674e-02 -1.6023e-01  3.1252e-01  2.7283e-01  3.8616e-01 -4.6490e-01\n",
      " -2.7410e-01  2.1728e-01  6.2240e-01 -7.8536e-02 -2.5898e-01 -1.1582e-01\n",
      " -6.4232e-02  6.3159e-01  1.7816e-01  1.6347e-01 -3.1426e-01  7.1582e-03\n",
      "  1.8283e-01  3.3098e-01  5.5306e-03  3.4560e-01  1.5257e-01 -1.0152e+00\n",
      " -5.7766e-02 -2.4420e-01  5.4395e-02 -2.8447e-01 -5.0519e-01 -4.4755e-01\n",
      " -1.8598e-01 -2.7034e-01 -1.6677e+00 -6.7145e-01  7.8058e-01 -1.5184e-01\n",
      "  7.1369e-02  1.5728e-01  4.1827e-01  7.8094e-02 -2.7426e-01 -9.9645e-02\n",
      "  5.9880e-02 -2.8312e-01 -3.8121e-01 -2.5041e-01  5.9514e-01  5.3611e-02\n",
      " -2.0939e-01  1.3734e-01 -2.0114e-01  5.9012e-01  4.7286e-01 -1.4449e-01\n",
      " -1.7325e-01 -2.0302e-01  2.8893e-01  8.9965e-02 -2.0838e-01 -2.3856e-02\n",
      " -8.8274e-02  2.1755e-01 -1.2827e-01  3.2392e-01 -2.8391e-01  1.6250e-01\n",
      "  2.0590e-01 -3.4954e-01 -1.3505e-01  7.7850e-01  2.3256e-01  1.5125e-01\n",
      " -2.2477e-01  2.0836e-01 -1.7383e-01  4.6327e-02  3.9167e-01  7.3104e-01\n",
      " -6.3146e-02  1.0124e-01 -1.9618e-01  1.3492e-01 -5.7935e-01  9.3962e-02\n",
      " -2.3460e-01 -4.4903e-01 -5.9653e-01  5.8797e-01  1.4689e-01 -2.6063e-02\n",
      "  1.2727e-01 -3.6699e-01  2.1540e-01 -9.6645e-01 -4.6952e-03 -6.3335e-02\n",
      " -5.2828e-01 -3.9353e-01  1.5281e-01  7.7390e-02  1.8050e-02  2.4187e-01\n",
      " -2.4346e-01  8.1424e-01  1.7230e-01  6.5749e-01 -5.8311e-01  2.7537e-01\n",
      "  8.8664e-02  2.0500e-01  3.5279e-01 -5.2323e-02 -7.3923e-02  1.2796e-02\n",
      " -2.4939e-01 -1.5305e-01 -2.5813e-01  2.0856e-02  1.3413e-03  3.9901e-01\n",
      " -2.6912e-01 -3.5101e-02  2.2470e-01 -1.5051e-02  3.7553e-01 -3.2474e-02\n",
      " -5.8931e-01 -7.8077e-02  1.4409e-01 -4.8325e-01  1.7444e-01 -9.7489e-02\n",
      "  3.4307e-01 -1.9264e-01  2.0609e-01 -1.1500e-01 -5.7528e-02  3.1390e-01\n",
      "  3.1094e-01  2.7736e-01 -3.1658e-01 -6.6577e-01  1.1348e-01  1.3384e-01\n",
      "  1.3963e-01 -1.8352e-01  9.8301e-02 -2.5564e-01 -1.5939e-01 -4.3228e-01\n",
      "  2.8538e-01 -1.4920e-01  2.3841e-01 -2.4731e-01 -9.3801e-04  2.9835e-01\n",
      " -4.2213e-01 -3.6125e-01  1.3158e-02  1.4117e-01 -1.0421e+00  6.9440e-01\n",
      " -1.3691e+00  5.0923e-01  4.7293e-02  7.4002e-01  1.4973e-01  6.4238e-02\n",
      "  7.8630e-02 -6.4958e-01 -7.8065e-02 -2.2764e-01 -1.1838e-01 -5.5334e-01\n",
      " -9.4118e-02  5.9864e-01 -3.1031e-01  3.1725e-01  1.4560e-01  1.5340e-01\n",
      "  1.8620e-01  1.1345e-01  1.5754e-01 -1.4100e-01  6.3721e-02  3.4407e-01\n",
      "  8.1630e-03 -3.7087e-01 -4.9873e-02 -1.6890e-01 -3.7603e-01  2.0482e-01]\n"
     ]
    }
   ],
   "source": [
    "print(word1.vector)"
   ]
  },
  {
   "cell_type": "code",
   "execution_count": 148,
   "metadata": {},
   "outputs": [
    {
     "name": "stdout",
     "output_type": "stream",
     "text": [
      "[-2.2097e-01  3.5276e-01  2.5902e-01 -1.4084e-01  1.2071e+00 -2.5736e-01\n",
      "  3.6818e-01  2.8698e-01  6.6701e-01  7.9883e-01 -1.0317e+00 -3.1354e-01\n",
      "  1.3612e-01 -3.6855e-01 -5.9258e-01 -1.6704e-01  4.8747e-01  1.4022e+00\n",
      " -2.8354e-01 -1.7819e-01  2.7696e-01  1.2330e-01  2.2013e-01 -5.2683e-01\n",
      " -5.9718e-01  3.0925e-01 -5.7059e-01  2.8477e-01  1.8325e-01 -2.9274e-01\n",
      "  1.1173e-01  2.5894e-02  2.4293e-01  4.9799e-01 -5.6105e-02  7.7593e-02\n",
      " -2.7713e-01 -1.7623e-02  1.5527e-01  1.0048e-01  7.7801e-02  2.0615e-01\n",
      "  3.1290e-01  3.9129e-01 -4.9430e-01 -1.7835e-01  2.8582e-01 -1.8039e-01\n",
      "  2.9692e-01 -7.4685e-02 -4.9558e-02  2.8070e-02  6.9255e-02 -6.3162e-01\n",
      " -2.8058e-01  7.7878e-02 -1.7916e-01  2.4994e-01  2.5900e-01 -3.9999e-01\n",
      " -2.1313e-01 -2.2888e-01  3.9839e-01 -3.1916e-01  4.1652e-01  7.4823e-02\n",
      " -2.5961e-01 -2.5720e-02 -2.6043e-01 -4.7200e-01 -1.1559e-01  5.2950e-02\n",
      " -7.5211e-02 -5.8345e-01  5.1971e-01  4.0677e-01 -3.9124e-01  5.3049e-02\n",
      "  1.7528e-01  1.3362e-01  1.4010e-01  5.6972e-01 -1.1274e-01 -1.7403e-01\n",
      " -5.4136e-03  2.1331e-01  1.4149e+00  8.5451e-01 -4.1047e-01 -4.5777e-01\n",
      " -2.9626e-02 -4.9019e-01 -1.2802e-01 -9.7651e-01  3.4469e-01  3.2710e-01\n",
      " -1.4606e-01  8.0762e-02 -3.5011e-01  9.6306e-03 -5.4033e-02  6.1061e-02\n",
      "  3.3244e-01  5.4726e-01  8.7409e-02 -9.5322e-01  5.2767e-01  3.7045e-01\n",
      " -2.5091e-01 -5.8814e-01  3.4467e-01  4.1424e-01  3.8851e-01 -4.5302e-01\n",
      " -2.6663e-01  2.6078e-01  2.8556e-01 -1.0276e-03  1.4630e-01 -2.8571e-01\n",
      "  1.2961e-01  9.7417e-02  2.4215e-01  2.1977e-02 -8.2105e-02 -2.4784e-01\n",
      "  4.7276e-01  9.3345e-02 -9.4944e-02  3.0040e-01  2.9005e-01 -7.5797e-01\n",
      " -5.5167e-01 -1.9745e-01  1.1367e-02 -6.1954e-01 -2.2060e-01  7.9866e-02\n",
      "  3.4207e-01 -2.2674e-01 -1.4541e+00 -4.7465e-01  8.3921e-01 -3.2557e-02\n",
      " -7.7184e-02  1.8445e-01  3.1101e-01 -1.8789e-01 -2.8898e-01 -1.5864e-01\n",
      " -4.9600e-03 -4.4440e-01 -3.8122e-01 -6.0558e-01  1.2936e-01 -1.3602e-01\n",
      "  4.7847e-01 -9.3048e-02  5.2006e-03  4.6759e-01  6.8885e-01  1.1869e-02\n",
      "  1.2110e-01  7.3079e-02  4.3976e-01  1.4482e-01  1.2151e-01  6.4436e-01\n",
      "  1.0610e-01  1.7487e-01 -2.1969e-01  2.9144e-02 -5.2083e-01  5.6070e-01\n",
      " -1.4332e-01 -5.2050e-01 -2.4472e-01  7.7874e-01  1.0090e-01  5.5550e-02\n",
      " -3.9076e-01  2.5853e-01 -1.2103e-01 -1.0490e-01  7.8388e-02  7.1931e-01\n",
      " -3.6093e-01  2.7479e-01  1.4901e-01  1.3838e-02 -4.4236e-01  5.0507e-02\n",
      " -3.0232e-01 -1.3008e-01 -6.4816e-01  2.4221e-01 -3.4400e-01  5.0521e-02\n",
      "  2.2372e-01  1.1698e-02  2.8286e-01 -1.1287e+00 -7.5640e-02 -1.4527e-01\n",
      " -2.5514e-01  9.8199e-02  3.5715e-01  1.5361e-01 -2.0107e-01  3.0278e-01\n",
      " -6.6450e-02  8.6677e-01  3.5943e-01  7.1932e-01 -4.1112e-01  2.6061e-01\n",
      "  1.0538e-01  2.6239e-01  1.3378e-01  6.0968e-03  5.5714e-02 -5.4975e-02\n",
      " -4.5369e-01 -2.3773e-02 -1.1247e-01  3.5320e-01 -3.8719e-01  5.2921e-01\n",
      "  1.3582e-01 -3.0575e-01  3.1948e-01  4.6354e-01 -8.8012e-02 -2.9094e-01\n",
      " -7.0531e-01  4.2633e-02  4.3427e-01 -6.2474e-01  1.9029e-01 -9.2454e-02\n",
      "  1.8741e-01 -5.7796e-01  4.1397e-01 -2.6035e-01 -1.8590e-01  1.4349e-01\n",
      "  3.3109e-01  2.1217e-01 -2.7307e-01 -7.0624e-01  3.5385e-01  3.5292e-02\n",
      "  2.8891e-01 -2.4458e-01 -7.8701e-02 -4.5099e-01 -8.4975e-03 -3.8806e-01\n",
      "  1.2349e-03 -3.1896e-01  3.6406e-01 -3.7289e-01 -8.6444e-03  3.6668e-03\n",
      " -2.1999e-01 -4.5926e-01 -2.4748e-01 -8.8929e-02 -7.9824e-01  6.9864e-01\n",
      " -1.1303e+00  5.0609e-01  1.2151e-01  6.6638e-01  3.7899e-01 -5.2539e-01\n",
      " -9.6771e-02 -4.7775e-01  9.1380e-02 -1.2537e-01 -3.4062e-01 -4.6499e-01\n",
      " -5.6188e-01  5.7867e-01  4.8729e-02 -1.6899e-02 -1.0672e-01  2.9477e-02\n",
      "  1.1699e-01  7.2361e-02  3.0396e-01  9.2366e-03 -2.9058e-01  6.9770e-02\n",
      "  2.0420e-01 -1.4142e-01  2.1584e-01 -3.6405e-01 -2.2920e-01 -1.8794e-02]\n"
     ]
    }
   ],
   "source": [
    "print(word2.vector)"
   ]
  },
  {
   "cell_type": "code",
   "execution_count": 149,
   "metadata": {},
   "outputs": [
    {
     "name": "stdout",
     "output_type": "stream",
     "text": [
      "[-2.1798e-01 -2.9048e-01 -5.1610e-02 -2.4831e-01  9.4785e-01  1.2750e-01\n",
      " -1.0110e-01  1.5643e-01  7.9737e-01  8.4553e-01 -9.3753e-01 -3.0159e-01\n",
      " -2.8020e-01  5.1649e-02 -4.4898e-01  1.6674e-01  2.3522e-01  1.1031e+00\n",
      "  7.9818e-02 -1.6015e-01  6.0658e-01 -1.3770e-01  2.4351e-01 -5.6038e-01\n",
      " -2.6251e-01 -1.0581e-01 -5.8782e-01  3.0618e-01  7.2418e-02  1.1522e-01\n",
      "  3.9131e-02  3.2026e-01  2.1002e-01  5.8079e-01  3.4478e-02 -2.8583e-01\n",
      "  7.7341e-02 -5.4439e-02 -5.3835e-02  1.1094e-01 -1.4411e-01  2.1762e-01\n",
      "  4.2380e-02  1.5384e-01 -6.6202e-02 -1.7764e-02  6.4653e-02  5.1204e-02\n",
      " -4.9649e-04 -9.5064e-02 -4.8792e-01  1.3271e-01  1.0807e-01 -2.0808e-01\n",
      " -3.9541e-01  7.7592e-02  2.6452e-01  3.2337e-01  6.0399e-02 -2.2518e-01\n",
      " -7.2460e-01 -4.7022e-01 -2.1260e-01 -9.4484e-02 -2.1484e-01 -9.0608e-02\n",
      " -5.2059e-01  5.2425e-01 -4.8971e-01  5.8252e-02 -3.7937e-01  1.7053e-01\n",
      " -1.7469e-01 -1.4227e-01  6.5785e-01 -4.4157e-02 -4.2401e-01  1.6576e-01\n",
      " -1.6306e-01  5.0224e-01 -1.9844e-01  9.7174e-01  2.7862e-02 -4.4603e-01\n",
      " -5.1098e-01  3.9201e-01  9.4961e-01  6.8122e-01  2.3835e-01 -4.2250e-01\n",
      "  2.8436e-01 -8.3105e-02 -1.9162e-02 -1.1584e+00  4.4308e-01 -3.1541e-01\n",
      "  3.3003e-01 -7.5589e-02 -1.9111e-01 -4.8029e-02 -7.3499e-02 -3.5729e-01\n",
      "  5.3814e-02  9.8481e-02  1.8797e-01 -9.7136e-01  3.9488e-01  5.1895e-01\n",
      " -4.4913e-01 -2.0587e-01  4.6084e-01  2.1415e-01  4.1455e-01 -6.9158e-02\n",
      " -3.3507e-02  5.0413e-01  7.0866e-01 -8.6416e-02 -1.4474e-01  3.7796e-01\n",
      "  1.0016e-01  5.9997e-01  1.7473e-01 -6.7597e-02 -1.6706e-01  1.0969e-01\n",
      "  3.4477e-01  7.2171e-01  2.0115e-01  4.9325e-02  2.5700e-01 -2.8534e-01\n",
      " -4.8046e-02 -1.9859e-01 -9.4114e-02 -5.3265e-01 -3.2197e-01 -2.0509e-01\n",
      " -5.0932e-02 -9.0853e-01 -1.6421e+00 -5.8722e-01  8.6645e-01  5.8079e-01\n",
      "  1.5728e-01 -1.6047e-01  1.8078e-01  9.0603e-02 -2.7532e-01  2.4532e-01\n",
      "  4.3094e-01 -3.3450e-01 -4.4327e-01 -2.7077e-01 -8.0034e-02 -9.0934e-03\n",
      " -2.6135e-01  6.4524e-02 -2.9712e-02  3.4757e-01  5.0024e-01  1.3479e-01\n",
      " -6.7257e-02 -4.5020e-01  4.4955e-01  1.0516e-01  2.4214e-01  2.2927e-01\n",
      "  1.2273e-01  1.4471e-01 -5.6715e-01 -4.4283e-02 -1.1480e-01  9.7809e-02\n",
      "  4.0770e-01 -6.5973e-01 -9.6243e-02  8.3704e-01  2.6509e-01  8.1545e-02\n",
      " -8.7964e-01 -6.1887e-02  3.3798e-01  5.2198e-02 -9.6816e-02  2.6582e-01\n",
      "  3.4151e-01 -9.6727e-02 -1.1853e-01 -1.4999e-01 -4.9322e-01  2.8215e-01\n",
      " -5.6080e-02 -3.1685e-01 -3.9216e-01  2.4599e-01  3.9523e-01  9.9250e-02\n",
      "  3.5908e-01 -8.2057e-02  1.7174e-01 -6.5440e-01  1.3691e-01 -3.0210e-01\n",
      "  2.6629e-01 -7.7581e-01  6.7614e-02  4.2620e-02  6.3775e-02  1.0542e-01\n",
      "  1.2925e-01  4.3086e-01  2.5391e-01  8.5152e-01 -4.6590e-01 -2.3378e-02\n",
      "  1.2552e-01  1.1960e-01  4.2315e-01 -2.3369e-01 -3.6389e-02  3.5617e-01\n",
      " -1.0595e-01 -5.2833e-01 -5.0322e-01 -6.5335e-02 -2.7623e-01  1.1969e-01\n",
      " -5.3792e-03  1.1609e-01  4.1622e-01  1.8116e-01  1.6415e-01 -3.4117e-01\n",
      " -7.1039e-01 -6.0286e-02 -7.3453e-02 -6.5384e-01  2.5224e-01  2.1843e-01\n",
      " -2.6687e-02 -5.9214e-01 -6.2865e-02 -1.1744e-01  4.7156e-02  1.9664e-01\n",
      "  5.7933e-01  2.0590e-01 -5.4264e-01 -7.8331e-01 -1.1477e-01 -1.3019e-01\n",
      "  3.1255e-01 -3.8372e-01 -2.1264e-01 -4.8499e-01 -3.3241e-01 -4.7978e-01\n",
      "  2.4902e-01 -1.7159e-02  4.1003e-01 -1.2385e-01 -1.1884e-01  3.3296e-01\n",
      " -5.1628e-01 -3.5246e-01 -2.5575e-01 -1.1631e-01 -1.0248e+00  9.9802e-01\n",
      " -1.1568e+00  5.7206e-01  1.5143e-01  7.0523e-01  2.1761e-01  4.7544e-02\n",
      "  3.0829e-01 -2.8372e-01  2.3282e-02 -1.9765e-01  1.7641e-02 -2.7359e-01\n",
      " -9.4441e-02 -3.6554e-02 -1.6567e-01  5.6775e-01  3.5133e-01 -2.9078e-02\n",
      "  4.8447e-01  4.1636e-02  4.6473e-01 -6.2734e-02  6.6958e-02 -7.8491e-02\n",
      "  6.9238e-02 -4.4038e-01 -2.2622e-01 -3.2639e-01 -5.6148e-01  2.5486e-01]\n"
     ]
    }
   ],
   "source": [
    "print(word3.vector)"
   ]
  },
  {
   "cell_type": "code",
   "execution_count": 150,
   "metadata": {},
   "outputs": [],
   "source": [
    "# Comparing the words"
   ]
  },
  {
   "cell_type": "code",
   "execution_count": 151,
   "metadata": {},
   "outputs": [
    {
     "name": "stdout",
     "output_type": "stream",
     "text": [
      "0.8171706593600244\n"
     ]
    }
   ],
   "source": [
    "# Comparing 'Chicago' with 'Dallas'\n",
    "\n",
    "print(word1.similarity(word2))"
   ]
  },
  {
   "cell_type": "code",
   "execution_count": 152,
   "metadata": {},
   "outputs": [
    {
     "name": "stdout",
     "output_type": "stream",
     "text": [
      "0.7102634898949287\n"
     ]
    }
   ],
   "source": [
    "# Comparing 'Dallas' with 'Boston'\n",
    "\n",
    "print(word2.similarity(word3))"
   ]
  },
  {
   "cell_type": "code",
   "execution_count": 153,
   "metadata": {},
   "outputs": [
    {
     "name": "stdout",
     "output_type": "stream",
     "text": [
      "0.8021084191655768\n"
     ]
    }
   ],
   "source": [
    "# Comparing 'Boston' with 'Chicago'\n",
    "\n",
    "print(word3.similarity(word1))"
   ]
  },
  {
   "cell_type": "code",
   "execution_count": 154,
   "metadata": {},
   "outputs": [],
   "source": [
    "# Import spatial and define a cosine_similarity function\n",
    "\n",
    "from scipy import spatial"
   ]
  },
  {
   "cell_type": "code",
   "execution_count": 155,
   "metadata": {},
   "outputs": [],
   "source": [
    "def cosine_similarity(vector1, vector2):\n",
    "    cos_sim = 1-spatial.distance.cosine(vector1,vector2)\n",
    "    return cos_sim"
   ]
  },
  {
   "cell_type": "code",
   "execution_count": 156,
   "metadata": {},
   "outputs": [
    {
     "name": "stdout",
     "output_type": "stream",
     "text": [
      "Cosine similarity between 'Chicago' and 'Dallas' is 0.8171707391738892\n"
     ]
    }
   ],
   "source": [
    "# Checking Cosine similarity between 'Chicago' and 'Dallas'\n",
    "\n",
    "print(\"Cosine similarity between 'Chicago' and 'Dallas' is \"+str(cosine_similarity(word1.vector, word2.vector)))"
   ]
  },
  {
   "cell_type": "code",
   "execution_count": 157,
   "metadata": {},
   "outputs": [
    {
     "name": "stdout",
     "output_type": "stream",
     "text": [
      "Cosine similarity between 'Dallas' and 'Boston' is 0.7102634906768799\n"
     ]
    }
   ],
   "source": [
    "# Checking Cosine similarity between 'Dallas' and 'Boston'\n",
    "\n",
    "print(\"Cosine similarity between 'Dallas' and 'Boston' is \"+str(cosine_similarity(word2.vector, word3.vector)))"
   ]
  },
  {
   "cell_type": "code",
   "execution_count": 158,
   "metadata": {},
   "outputs": [
    {
     "name": "stdout",
     "output_type": "stream",
     "text": [
      "Cosine similarity between 'Mumbai' and 'Chicago' is 0.8021084666252136\n"
     ]
    }
   ],
   "source": [
    "# Checking Cosine similarity between 'Boston' and 'Chicago'\n",
    "\n",
    "print(\"Cosine similarity between 'Mumbai' and 'Chicago' is \"+str(cosine_similarity(word3.vector, word1.vector)))"
   ]
  },
  {
   "cell_type": "code",
   "execution_count": 159,
   "metadata": {},
   "outputs": [],
   "source": [
    "# Write an expression for vector arithmetic\n",
    "# For example: new_vector = word1 - word2 + word3"
   ]
  },
  {
   "cell_type": "code",
   "execution_count": 160,
   "metadata": {},
   "outputs": [],
   "source": [
    "new_vector= word1.vector - word2.vector + word3.vector"
   ]
  },
  {
   "cell_type": "code",
   "execution_count": 161,
   "metadata": {},
   "outputs": [
    {
     "name": "stdout",
     "output_type": "stream",
     "text": [
      "[ 4.43269908e-02 -6.70365930e-01 -2.43899897e-02 -3.79189998e-01\n",
      "  7.44249940e-01  5.01770020e-01 -2.61560023e-01 -1.87261999e-01\n",
      "  5.80260038e-01  1.10909998e+00 -9.15829957e-01 -2.27959991e-01\n",
      " -2.94870019e-01  3.26312989e-01 -3.31609994e-01  4.40120012e-01\n",
      " -5.26099950e-02  1.28899992e+00  1.91468000e-01 -2.78330028e-01\n",
      "  9.20410037e-01 -4.94220018e-01  4.53010023e-01 -8.47789943e-01\n",
      " -7.02199936e-02 -4.65946019e-01 -6.63899958e-01  3.44520003e-01\n",
      " -2.11531997e-01  4.32002991e-01  2.70300984e-01  2.65038997e-01\n",
      "  2.22850025e-01  4.59609985e-01  4.47189994e-02 -1.46222994e-01\n",
      "  2.94436991e-01 -4.72309999e-02 -1.43156990e-01  3.68710011e-01\n",
      " -1.44250989e-01  1.56709999e-01 -4.87499982e-01 -1.26399994e-01\n",
      "  5.09537995e-01  8.45599994e-02 -1.60917997e-01  4.78339978e-02\n",
      " -2.86414474e-01 -9.68319997e-02 -1.12089205e+00  3.57769966e-01\n",
      "  3.71599942e-03  9.53499973e-02 -3.82599980e-01 -3.10969949e-02\n",
      "  4.45394278e-01  3.14070016e-01 -6.87210113e-02 -4.43920016e-01\n",
      " -1.34424996e+00 -4.13810015e-01 -5.58218956e-01  1.13306016e-01\n",
      " -6.75244987e-01 -4.88210022e-02 -6.61970019e-01  7.93149948e-01\n",
      " -3.79599988e-01  3.90782028e-01 -5.25099993e-01  1.25373006e-01\n",
      " -1.72000989e-01  8.65600109e-02  3.68400037e-01 -2.27169991e-02\n",
      " -4.16999996e-01  8.58869925e-02  1.61290005e-01  7.35640049e-01\n",
      " -3.83231997e-01  1.11815000e+00  2.20471010e-01 -6.94800019e-01\n",
      " -1.03177643e+00  4.22769994e-01  5.64710021e-01  3.28269958e-01\n",
      "  4.65460002e-01 -2.59990036e-01  5.96235991e-01  1.74575001e-01\n",
      " -2.86081970e-01 -1.05138016e+00  3.37050021e-01 -4.68500018e-01\n",
      "  4.74363506e-01 -1.18870005e-01 -1.80100054e-02 -2.19326001e-02\n",
      " -1.71346009e-01 -3.70240986e-01 -1.31885976e-01  3.97280991e-01\n",
      "  9.47251022e-02 -8.54490042e-01  3.90239954e-01  6.15810037e-01\n",
      " -1.59545988e-01  2.22040027e-01  4.28689986e-01  7.27400035e-02\n",
      "  4.12200004e-01 -8.10379833e-02 -4.09770124e-02  4.60630000e-01\n",
      "  1.04550004e+00 -1.63924396e-01 -5.50019979e-01  5.47850013e-01\n",
      " -9.36819911e-02  1.13414299e+00  1.10740006e-01  7.38959908e-02\n",
      " -3.99214983e-01  3.64688218e-01  5.48400283e-02  9.59345043e-01\n",
      "  3.01624596e-01  9.45250243e-02  1.19519994e-01 -5.42570055e-01\n",
      "  4.45858032e-01 -2.45340005e-01 -5.10859974e-02 -1.97580010e-01\n",
      " -6.06559992e-01 -7.32505977e-01 -5.78981996e-01 -9.52129960e-01\n",
      " -1.85570002e+00 -7.84020066e-01  8.07820022e-01  4.61506963e-01\n",
      "  3.05832982e-01 -1.87639996e-01  2.88039982e-01  3.56586993e-01\n",
      " -2.60600001e-01  3.04315001e-01  4.95779991e-01 -1.73220009e-01\n",
      " -4.43259984e-01  8.43999684e-02  3.85745943e-01  1.80537596e-01\n",
      " -9.49210048e-01  2.94911981e-01 -2.36052603e-01  4.70100015e-01\n",
      "  2.84250051e-01 -2.15689987e-02 -3.61607015e-01 -7.26298988e-01\n",
      "  2.98720002e-01  5.03049940e-02 -8.77500176e-02 -4.38946009e-01\n",
      " -7.16439933e-02  1.87390000e-01 -4.75730002e-01  2.50493020e-01\n",
      "  1.22119971e-01 -3.00391018e-01  7.56919980e-01 -4.88770008e-01\n",
      "  1.34269968e-02  8.36800039e-01  3.96749973e-01  1.77245006e-01\n",
      " -7.13649988e-01 -1.12056985e-01  2.85180002e-01  2.03424990e-01\n",
      "  2.16465980e-01  2.77550012e-01  6.39294028e-01 -2.70276964e-01\n",
      " -4.63719994e-01 -2.89080068e-02 -6.30209982e-01  3.25605005e-01\n",
      "  1.16400123e-02 -6.35800004e-01 -3.40530038e-01  5.91750026e-01\n",
      "  8.86120021e-01  2.26659998e-02  2.62629986e-01 -4.60745007e-01\n",
      "  1.04279980e-01 -4.92149949e-01  2.07854807e-01 -2.20164999e-01\n",
      " -6.85000420e-03 -1.26753902e+00 -1.36725992e-01 -3.36000063e-02\n",
      "  2.82894999e-01  4.45099995e-02 -4.77599949e-02  3.78329962e-01\n",
      "  6.67800158e-02  7.89690018e-01 -6.37889981e-01 -8.61801207e-03\n",
      "  1.08804010e-01  6.22100085e-02  6.42159998e-01 -2.92109787e-01\n",
      " -1.66025996e-01  4.23941016e-01  9.83499885e-02 -6.57607019e-01\n",
      " -6.48880005e-01 -3.97679001e-01  1.12301320e-01 -1.05099678e-02\n",
      " -4.10319209e-01  3.86739016e-01  3.21440011e-01 -2.97430992e-01\n",
      "  6.27691984e-01 -8.27040374e-02 -5.94389975e-01 -1.80996001e-01\n",
      " -3.63633007e-01 -5.12349963e-01  2.36389995e-01  2.13395000e-01\n",
      "  1.28973007e-01 -2.06820011e-01 -2.70744979e-01  2.79099792e-02\n",
      "  1.75527990e-01  3.67049992e-01  5.59180021e-01  2.71089971e-01\n",
      " -5.86149931e-01 -7.42839992e-01 -3.55140001e-01 -3.16420048e-02\n",
      "  1.63270012e-01 -3.22660029e-01 -3.56380045e-02 -2.89640009e-01\n",
      " -4.83302504e-01 -5.23999989e-01  5.33165097e-01  1.52601004e-01\n",
      "  2.84379989e-01  1.72999501e-03 -1.11133613e-01  6.27643228e-01\n",
      " -7.18419969e-01 -2.54450023e-01  4.88799810e-03  1.13788992e-01\n",
      " -1.26865983e+00  9.93780017e-01 -1.39559996e+00  5.75200021e-01\n",
      "  7.72129968e-02  7.78869987e-01 -1.16499960e-02  6.37172043e-01\n",
      "  4.83691007e-01 -4.55549985e-01 -1.46163002e-01 -2.99920022e-01\n",
      "  2.39881009e-01 -3.61940026e-01  3.73320997e-01 -1.65840015e-02\n",
      " -5.24708986e-01  9.01898980e-01  6.03649974e-01  9.48450044e-02\n",
      "  5.53680003e-01  8.27250034e-02  3.18309993e-01 -2.12970614e-01\n",
      "  4.21259016e-01  1.95808977e-01 -1.26798987e-01 -6.69829965e-01\n",
      " -4.91932988e-01 -1.31239995e-01 -7.08310008e-01  4.78474021e-01]\n"
     ]
    }
   ],
   "source": [
    "print(new_vector)"
   ]
  },
  {
   "cell_type": "code",
   "execution_count": 162,
   "metadata": {},
   "outputs": [],
   "source": [
    "# List the top ten closest vectors in the vocabulary to the result of the expression above "
   ]
  },
  {
   "cell_type": "code",
   "execution_count": 166,
   "metadata": {},
   "outputs": [],
   "source": [
    "top_ten = []\n",
    "\n",
    "for word in nlp.vocab:\n",
    "    if word.has_vector & word.is_alpha:\n",
    "        similar = 1-spatial.distance.cosine(new_vector,word.vector)\n",
    "        top_ten.append((word, similar))"
   ]
  },
  {
   "cell_type": "code",
   "execution_count": 167,
   "metadata": {},
   "outputs": [],
   "source": [
    "sorted_top_ten = sorted(top_ten, key=lambda x: x[1], reverse = True)"
   ]
  },
  {
   "cell_type": "code",
   "execution_count": 168,
   "metadata": {},
   "outputs": [
    {
     "name": "stdout",
     "output_type": "stream",
     "text": [
      "Boston\n",
      "Chicago\n",
      "Minn\n",
      "Calif\n",
      "Fla\n",
      "Sept\n",
      "Oct\n",
      "Colo\n",
      "Ltd\n",
      "Ia\n"
     ]
    }
   ],
   "source": [
    "for i in sorted_top_ten[0:10]:\n",
    "    print(i[0].text)\n"
   ]
  },
  {
   "cell_type": "markdown",
   "metadata": {},
   "source": [
    "###  Write a function that takes in 3 strings, performs a-b+c arithmetic, and returns a top-ten result"
   ]
  },
  {
   "cell_type": "code",
   "execution_count": 169,
   "metadata": {},
   "outputs": [],
   "source": [
    "def vector_math(a,b,c):\n",
    "    w_1 = nlp(a)\n",
    "    w_2 = nlp(b)\n",
    "    w_3 = nlp(c)\n",
    "    w_4 = w_1.vector-w_2.vector+w_3.vector\n",
    "    \n",
    "    top_ten_w = []\n",
    "    result = []\n",
    "\n",
    "    for word in nlp.vocab:\n",
    "        if word.has_vector & word.is_alpha & word.is_lower:\n",
    "            similar_w = 1-spatial.distance.cosine(w_4,word.vector)\n",
    "            top_ten_w.append((word, similar_w))\n",
    "            \n",
    "    sorted_top_ten_w = sorted(top_ten_w, key=lambda x: x[1], reverse = True)\n",
    "    \n",
    "    for i in sorted_top_ten_w[0:10]:\n",
    "        result.append(i[0].text)\n",
    "        \n",
    "    return result\n",
    "        \n",
    "    "
   ]
  },
  {
   "cell_type": "code",
   "execution_count": 170,
   "metadata": {},
   "outputs": [],
   "source": [
    "# Testing the function \n",
    "\n",
    "va = vector_math('tiger','lion','cat')"
   ]
  },
  {
   "cell_type": "code",
   "execution_count": 171,
   "metadata": {},
   "outputs": [
    {
     "name": "stdout",
     "output_type": "stream",
     "text": [
      "['cat', 'tiger', 'i', 'u', 'cuz', 'she', 'ca', 'got', 'when', 'coz']\n"
     ]
    }
   ],
   "source": [
    "print(va)"
   ]
  },
  {
   "cell_type": "code",
   "execution_count": 172,
   "metadata": {},
   "outputs": [
    {
     "data": {
      "text/plain": [
       "['king', 'woman', 'she', 'lion', 'tiger', 'who', 'when', 'dare', 'cat', 'was']"
      ]
     },
     "execution_count": 172,
     "metadata": {},
     "output_type": "execute_result"
    }
   ],
   "source": [
    "# Test the function on known words:\n",
    "\n",
    "vector_math('king','man','woman')"
   ]
  },
  {
   "cell_type": "markdown",
   "metadata": {},
   "source": [
    "### Perform VADER Sentiment Analysis on your own review\n",
    "\n",
    "Write code that returns a set of SentimentIntensityAnalyzer polarity scores based on your own written review."
   ]
  },
  {
   "cell_type": "code",
   "execution_count": 173,
   "metadata": {},
   "outputs": [],
   "source": [
    "# Import SentimentIntensityAnalyzer and create an sid object\n",
    "\n",
    "from nltk.sentiment.vader import SentimentIntensityAnalyzer"
   ]
  },
  {
   "cell_type": "code",
   "execution_count": 176,
   "metadata": {},
   "outputs": [],
   "source": [
    "sid = SentimentIntensityAnalyzer()"
   ]
  },
  {
   "cell_type": "code",
   "execution_count": 177,
   "metadata": {},
   "outputs": [],
   "source": [
    "# Write a review as one continuous string (multiple sentences are ok)\n",
    "\n",
    "review = \"The iPhone 13 and 13 Mini received a number of significant upgrades including new cameras, a bigger battery, more storage and a brighter screen. The iPhone 13 is a delightful upgrade to last year's already wonderful iPhone 12 family\""
   ]
  },
  {
   "cell_type": "code",
   "execution_count": 178,
   "metadata": {},
   "outputs": [
    {
     "data": {
      "text/plain": [
       "\"The iPhone 13 and 13 Mini received a number of significant upgrades including new cameras, a bigger battery, more storage and a brighter screen. The iPhone 13 is a delightful upgrade to last year's already wonderful iPhone 12 family\""
      ]
     },
     "execution_count": 178,
     "metadata": {},
     "output_type": "execute_result"
    }
   ],
   "source": [
    "review"
   ]
  },
  {
   "cell_type": "code",
   "execution_count": 179,
   "metadata": {},
   "outputs": [
    {
     "data": {
      "text/plain": [
       "{'neg': 0.0, 'neu': 0.69, 'pos': 0.31, 'compound': 0.9093}"
      ]
     },
     "execution_count": 179,
     "metadata": {},
     "output_type": "execute_result"
    }
   ],
   "source": [
    "# Obtain the sid scores for your review\n",
    "\n",
    "sid.polarity_scores(review)"
   ]
  },
  {
   "cell_type": "markdown",
   "metadata": {},
   "source": [
    "###  Write a function that takes in a review and returns a score of \"Positive\", \"Negative\" or \"Neutral\""
   ]
  },
  {
   "cell_type": "code",
   "execution_count": 185,
   "metadata": {},
   "outputs": [],
   "source": [
    "def review_score(r):\n",
    "    result = sid.polarity_scores(r)\n",
    "    if result['compound'] > 0:\n",
    "        return 'Positive Review'\n",
    "    elif result['compound'] < 0:\n",
    "        return 'Negative Review'\n",
    "    else:\n",
    "        return 'Neutral'"
   ]
  },
  {
   "cell_type": "code",
   "execution_count": 188,
   "metadata": {},
   "outputs": [
    {
     "data": {
      "text/plain": [
       "'Positive Review'"
      ]
     },
     "execution_count": 188,
     "metadata": {},
     "output_type": "execute_result"
    }
   ],
   "source": [
    "# Test the function on your review above:\n",
    "\n",
    "review_score(review)"
   ]
  },
  {
   "cell_type": "code",
   "execution_count": null,
   "metadata": {},
   "outputs": [],
   "source": []
  }
 ],
 "metadata": {
  "kernelspec": {
   "display_name": "Python 3",
   "language": "python",
   "name": "python3"
  },
  "language_info": {
   "codemirror_mode": {
    "name": "ipython",
    "version": 3
   },
   "file_extension": ".py",
   "mimetype": "text/x-python",
   "name": "python",
   "nbconvert_exporter": "python",
   "pygments_lexer": "ipython3",
   "version": "3.8.5"
  }
 },
 "nbformat": 4,
 "nbformat_minor": 4
}
